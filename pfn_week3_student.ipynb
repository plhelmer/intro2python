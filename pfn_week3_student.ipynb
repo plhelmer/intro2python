{
 "cells": [
  {
   "cell_type": "markdown",
   "metadata": {
    "id": "Z4iFF-sQge6U"
   },
   "source": [
    "# **Warm Up**\n",
    "\n",
    "Write a piece of code that given as string variable, does the following:\n",
    "- Prints \"short word\" for words with up to 4 letters, \"medium work\" for words with more than 4 and less than 10 letters, and \"long word\" for words with 10 letters or more.\n",
    "- Print if the word has an even or an odd number of letters.\n",
    "- Checks if the word starts with \"s\" and if not prints its first letter.\n",
    "- Print \"the Force is strong with you\" if the word is \"jedi\".\n",
    "\n",
    "Test it out by setting a variable \"my_word\" to a few different values and making sure it does what you want / expect."
   ]
  },
  {
   "cell_type": "code",
   "execution_count": 3,
   "metadata": {
    "id": "iOs8sEEvYfPy"
   },
   "outputs": [
    {
     "name": "stdout",
     "output_type": "stream",
     "text": [
      "Even number of letters\n",
      "j\n",
      "The Force is strong with you\n"
     ]
    }
   ],
   "source": [
    "# Your Work Goes Here\n",
    "\n",
    "my_word = 'jedi'\n",
    "\n",
    "if len(my_word) < 4:\n",
    "    print(\"Short word\")\n",
    "elif len(my_word) >= 10:\n",
    "    print(\"Long word\")\n",
    "elif len(my_word) < 10:\n",
    "    print(\"Medium word\")\n",
    "\n",
    "if len(my_word)%2 == 0:\n",
    "    print(\"Even number of letters\")\n",
    "elif len(my_word)%2 == 1:\n",
    "    print(\"Odd number of letters\")\n",
    "\n",
    "if my_word[0] == 's':\n",
    "    pass\n",
    "elif my_word[0] != 's':\n",
    "    print(my_word[0])\n",
    "\n",
    "if my_word == 'jedi':\n",
    "    print(\"The Force is strong with you\")\n"
   ]
  },
  {
   "cell_type": "markdown",
   "metadata": {
    "id": "_AWuFTVkjqnz"
   },
   "source": [
    "# Lists\n",
    "\n",
    "Lists let you define a sequence of anything -- strings, integers, floats, other lists, etc.\n",
    "\n",
    "Many of the same operations that work with strings also work with lists. The main difference is that lists are mutable, which means that you can change elements of the list after it has been created."
   ]
  },
  {
   "cell_type": "code",
   "execution_count": 16,
   "metadata": {
    "id": "T1KmFwXiiaeT"
   },
   "outputs": [],
   "source": [
    "teachers = ['Abhi', 'Sharon', 'Sam']"
   ]
  },
  {
   "cell_type": "code",
   "execution_count": 5,
   "metadata": {
    "colab": {
     "base_uri": "https://localhost:8080/",
     "height": 35
    },
    "id": "GlsdIOesj1y0",
    "outputId": "86341051-64dd-481e-86ec-fd6000240aa7"
   },
   "outputs": [
    {
     "data": {
      "text/plain": [
       "'Abhi'"
      ]
     },
     "execution_count": 5,
     "metadata": {},
     "output_type": "execute_result"
    }
   ],
   "source": [
    "teachers[0]"
   ]
  },
  {
   "cell_type": "code",
   "execution_count": 6,
   "metadata": {
    "colab": {
     "base_uri": "https://localhost:8080/",
     "height": 35
    },
    "id": "j1q-U7eDj3lx",
    "outputId": "cb6cbf45-0a3d-42fb-dc73-1f93b48015d4"
   },
   "outputs": [
    {
     "data": {
      "text/plain": [
       "'Sam'"
      ]
     },
     "execution_count": 6,
     "metadata": {},
     "output_type": "execute_result"
    }
   ],
   "source": [
    "teachers[-1]"
   ]
  },
  {
   "cell_type": "code",
   "execution_count": 7,
   "metadata": {
    "colab": {
     "base_uri": "https://localhost:8080/"
    },
    "id": "-ph49H9Aj6Ct",
    "outputId": "8f5cd5fa-6e96-46a9-d031-85b621b4caed"
   },
   "outputs": [
    {
     "data": {
      "text/plain": [
       "['Abhi', 'Sharon', 'Sam', 'Abhi', 'Sharon', 'Sam', 'Abhi', 'Sharon', 'Sam']"
      ]
     },
     "execution_count": 7,
     "metadata": {},
     "output_type": "execute_result"
    }
   ],
   "source": [
    "teachers*3"
   ]
  },
  {
   "cell_type": "markdown",
   "metadata": {
    "id": "tjPAWkWAldDU"
   },
   "source": [
    "## Append"
   ]
  },
  {
   "cell_type": "code",
   "execution_count": 8,
   "metadata": {
    "id": "QyUEcgvSlbgV"
   },
   "outputs": [],
   "source": [
    "teachers.append('Cornelia')"
   ]
  },
  {
   "cell_type": "code",
   "execution_count": 9,
   "metadata": {
    "colab": {
     "base_uri": "https://localhost:8080/"
    },
    "id": "cNYk0vnwllsf",
    "outputId": "8733952d-af8b-482c-faf1-1d0c26715717"
   },
   "outputs": [
    {
     "data": {
      "text/plain": [
       "['Abhi', 'Sharon', 'Sam', 'Cornelia']"
      ]
     },
     "execution_count": 9,
     "metadata": {},
     "output_type": "execute_result"
    }
   ],
   "source": [
    "teachers"
   ]
  },
  {
   "cell_type": "markdown",
   "metadata": {
    "id": "tQZyY5cglrOr"
   },
   "source": [
    "## Removing elements from a list"
   ]
  },
  {
   "cell_type": "code",
   "execution_count": 10,
   "metadata": {
    "id": "JgVBcxO4lpgY"
   },
   "outputs": [],
   "source": [
    "teachers.remove('Cornelia')"
   ]
  },
  {
   "cell_type": "code",
   "execution_count": 11,
   "metadata": {
    "colab": {
     "base_uri": "https://localhost:8080/"
    },
    "id": "RcYEHN8nl0Tm",
    "outputId": "5ff35fca-0507-4d94-fb70-bdd073960cf4"
   },
   "outputs": [
    {
     "data": {
      "text/plain": [
       "['Abhi', 'Sharon', 'Sam']"
      ]
     },
     "execution_count": 11,
     "metadata": {},
     "output_type": "execute_result"
    }
   ],
   "source": [
    "teachers"
   ]
  },
  {
   "cell_type": "code",
   "execution_count": 17,
   "metadata": {
    "id": "a9SajKNul2Uu"
   },
   "outputs": [],
   "source": [
    "del teachers[1] # also works to remove multiple elements with slicing, which will be taught in a future class"
   ]
  },
  {
   "cell_type": "code",
   "execution_count": 18,
   "metadata": {
    "colab": {
     "base_uri": "https://localhost:8080/"
    },
    "id": "R9ihATFKl49N",
    "outputId": "60e2f40a-eb12-490a-d729-49c6d2bc5208"
   },
   "outputs": [
    {
     "data": {
      "text/plain": [
       "['Abhi', 'Sam']"
      ]
     },
     "execution_count": 18,
     "metadata": {},
     "output_type": "execute_result"
    }
   ],
   "source": [
    "teachers"
   ]
  },
  {
   "cell_type": "code",
   "execution_count": 19,
   "metadata": {
    "colab": {
     "base_uri": "https://localhost:8080/",
     "height": 35
    },
    "id": "QrlT4JkTl6ve",
    "outputId": "182a7f1a-6a4c-4674-881a-21bbc6f5db78"
   },
   "outputs": [
    {
     "data": {
      "text/plain": [
       "'Sam'"
      ]
     },
     "execution_count": 19,
     "metadata": {},
     "output_type": "execute_result"
    }
   ],
   "source": [
    "teachers.pop(1) # remove item at index 1 from list & returns it. If don't enter an index, will remove last item."
   ]
  },
  {
   "cell_type": "code",
   "execution_count": 20,
   "metadata": {
    "colab": {
     "base_uri": "https://localhost:8080/"
    },
    "id": "8E8j_OXBmAAE",
    "outputId": "55e8f9e9-b401-465c-b9cf-f9dcc04a7fd4"
   },
   "outputs": [
    {
     "data": {
      "text/plain": [
       "['Abhi']"
      ]
     },
     "execution_count": 20,
     "metadata": {},
     "output_type": "execute_result"
    }
   ],
   "source": [
    "teachers"
   ]
  },
  {
   "cell_type": "markdown",
   "metadata": {
    "id": "k6V5CLkW5frL"
   },
   "source": [
    "## List of Lists\n"
   ]
  },
  {
   "cell_type": "code",
   "execution_count": 24,
   "metadata": {
    "id": "OYkok4UhXXbl"
   },
   "outputs": [
    {
     "name": "stdout",
     "output_type": "stream",
     "text": [
      "[[1, 2, 3], ['a', 'b', 'c']]\n"
     ]
    }
   ],
   "source": [
    "n=[1,2,3]\n",
    "s = ['a', 'b', 'c']\n",
    "list_of_list = [n,s]\n",
    "print(list_of_list)"
   ]
  },
  {
   "cell_type": "code",
   "execution_count": 22,
   "metadata": {
    "colab": {
     "base_uri": "https://localhost:8080/"
    },
    "id": "Oajnwsdy5lWQ",
    "outputId": "76d53f99-a381-4088-fa7d-0aca8ccfe6f3"
   },
   "outputs": [
    {
     "name": "stdout",
     "output_type": "stream",
     "text": [
      "['a', 'b', 'c', [1, 2, 3]]\n"
     ]
    }
   ],
   "source": [
    "# append adds the argument inside the parentheses as one element in the list\n",
    "s.append(n)\n",
    "print(s)"
   ]
  },
  {
   "cell_type": "code",
   "execution_count": 25,
   "metadata": {
    "colab": {
     "base_uri": "https://localhost:8080/"
    },
    "id": "wAJs7FSv5nSI",
    "outputId": "65e5cf06-d393-480d-d2b6-8bc40af2abe5"
   },
   "outputs": [
    {
     "name": "stdout",
     "output_type": "stream",
     "text": [
      "['a', 'b', 'c', 1, 2, 3]\n"
     ]
    }
   ],
   "source": [
    "# appends each element of n to list s\n",
    "s.extend(n)\n",
    "print(s)"
   ]
  },
  {
   "cell_type": "code",
   "execution_count": 26,
   "metadata": {
    "colab": {
     "base_uri": "https://localhost:8080/"
    },
    "id": "o6s4iGDX5pb_",
    "outputId": "b65a0706-0469-4487-c188-fb2aa94047eb"
   },
   "outputs": [
    {
     "name": "stdout",
     "output_type": "stream",
     "text": [
      "[1, 2, 3]\n",
      "['a', 'b', 'c', 1, 2, 3]\n"
     ]
    }
   ],
   "source": [
    "print(n)\n",
    "print(s)"
   ]
  },
  {
   "cell_type": "markdown",
   "metadata": {
    "id": "SmFIohv2XbaI"
   },
   "source": [
    "**Obs.:** When you have a list that contains within it another mutable object, such as other lists, there are differences between `deepcopy` and the shallow `.copy` option that comes with lists. We don't have time to get into why this is, but you can check the extra notebook about this topic at home. The main takeaway is if you want to avoid changing the original list or the original list changing the copy, use deepcopy!\n"
   ]
  },
  {
   "cell_type": "markdown",
   "metadata": {
    "id": "czL0X2nR55jP"
   },
   "source": [
    "## Exercise:\n",
    "\n",
    "What will the following code block print?\n",
    "For each print statement, comment what you think it will be and then test before moving on to the next print statement.\n",
    "\n",
    "```\n",
    "test_list = []\n",
    "test_list +=['do']\n",
    "test_list.append('re')\n",
    "test_list.append(['mi','fa', 'so'])\n",
    "test_list.extend(['la', 'ti'])\n",
    "print(len(test_list)) #1\n",
    "print(test_list) #2\n",
    "print(test_list[2]) #3\n",
    "\n",
    "del test_list[2][0]\n",
    "print(test_list) #4\n",
    "\n",
    "test_list[3] = []\n",
    "print(test_list) #5\n",
    "\n",
    "```\n"
   ]
  },
  {
   "cell_type": "code",
   "execution_count": 27,
   "metadata": {
    "id": "wBdYXnc-ZDJO"
   },
   "outputs": [
    {
     "name": "stdout",
     "output_type": "stream",
     "text": [
      "5\n",
      "['do', 're', ['mi', 'fa', 'so'], 'la', 'ti']\n",
      "['mi', 'fa', 'so']\n",
      "['do', 're', ['fa', 'so'], 'la', 'ti']\n",
      "['do', 're', ['fa', 'so'], [], 'ti']\n"
     ]
    }
   ],
   "source": [
    "# paste here and run it\n",
    "test_list = []\n",
    "test_list +=['do']\n",
    "test_list.append('re')\n",
    "test_list.append(['mi','fa', 'so'])\n",
    "test_list.extend(['la', 'ti'])\n",
    "print(len(test_list)) #1\n",
    "\n",
    "#[do, re, [mi, fa, so], la, ti]\n",
    "# length = 5\n",
    "\n",
    "print(test_list) #2\n",
    "print(test_list[2]) #3\n",
    "\n",
    "#[mi, fa, so]\n",
    "\n",
    "del test_list[2][0]\n",
    "print(test_list) #4\n",
    "\n",
    "#[re, la, ti]\n",
    "#does not delete 2 and 0, deletes 0 within 2: [do, re, [fa, so], la, ti]\n",
    "\n",
    "test_list[3] = []\n",
    "print(test_list) #5\n",
    "\n",
    "#[re, la, ti, ]\n",
    "#[do, re, [fa, so], [], ti]"
   ]
  },
  {
   "cell_type": "markdown",
   "metadata": {
    "id": "wJzLT0Vi5-RF"
   },
   "source": [
    "# Dictionaries\n",
    "\n",
    "Dictionaries are a mutable datatype consisting of key and value pairs. They are good for quickly accessing the values of arbitrary keys. Keys and values can both be any data type.\n",
    "\n",
    "Dictionaries look like this:\n",
    "```\n",
    "{\n",
    "  key0: value0,\n",
    "  key1: value1,\n",
    "  key2: value2\n",
    "}\n",
    "```"
   ]
  },
  {
   "cell_type": "code",
   "execution_count": 28,
   "metadata": {
    "id": "CI4_CwuW59Et"
   },
   "outputs": [],
   "source": [
    "# Dictionaries:\n",
    "monkey_A = {\n",
    "'spiketimes': [0,20,34,56],\n",
    "'name': 'Einstein',\n",
    "}"
   ]
  },
  {
   "cell_type": "code",
   "execution_count": 29,
   "metadata": {
    "colab": {
     "base_uri": "https://localhost:8080/"
    },
    "id": "2TsEQlsW6DLO",
    "outputId": "82056224-feb8-423a-a83d-b48db430468e"
   },
   "outputs": [
    {
     "data": {
      "text/plain": [
       "{'spiketimes': [0, 20, 34, 56], 'name': 'Einstein'}"
      ]
     },
     "execution_count": 29,
     "metadata": {},
     "output_type": "execute_result"
    }
   ],
   "source": [
    "monkey_A"
   ]
  },
  {
   "cell_type": "code",
   "execution_count": 30,
   "metadata": {
    "colab": {
     "base_uri": "https://localhost:8080/"
    },
    "id": "5tiYsGZ06LOQ",
    "outputId": "0d3f2dbb-245a-4cc7-99a1-9b5bd9ed363e"
   },
   "outputs": [
    {
     "data": {
      "text/plain": [
       "dict_keys(['spiketimes', 'name'])"
      ]
     },
     "execution_count": 30,
     "metadata": {},
     "output_type": "execute_result"
    }
   ],
   "source": [
    "# lists the keys in the dictionar\n",
    "monkey_A.keys()"
   ]
  },
  {
   "cell_type": "code",
   "execution_count": 31,
   "metadata": {
    "colab": {
     "base_uri": "https://localhost:8080/"
    },
    "id": "GV6D8qy46Uhz",
    "outputId": "da1a7ec9-fbda-4faa-81ec-75e7067f8d67"
   },
   "outputs": [
    {
     "data": {
      "text/plain": [
       "[0, 20, 34, 56]"
      ]
     },
     "execution_count": 31,
     "metadata": {},
     "output_type": "execute_result"
    }
   ],
   "source": [
    "monkey_A['spiketimes'] # gets the value at the key inside the brackets"
   ]
  },
  {
   "cell_type": "markdown",
   "metadata": {
    "id": "F2ZmXzNI6cgf"
   },
   "source": [
    "What will `monkey_A['name']` output?\n",
    "\n",
    "Guess, and then type and run below."
   ]
  },
  {
   "cell_type": "code",
   "execution_count": 32,
   "metadata": {
    "id": "Jy6DPTOUa6RJ"
   },
   "outputs": [
    {
     "data": {
      "text/plain": [
       "'Einstein'"
      ]
     },
     "execution_count": 32,
     "metadata": {},
     "output_type": "execute_result"
    }
   ],
   "source": [
    "# 'Einstein'\n",
    "\n",
    "monkey_A['name']"
   ]
  },
  {
   "cell_type": "code",
   "execution_count": 33,
   "metadata": {
    "id": "7TJfcNbd6b3X"
   },
   "outputs": [],
   "source": [
    "monkey_A['lab'] = 'Churchland' # adds key, value pair to dictionary ('lab' is the key, 'Churchland' is the value)"
   ]
  },
  {
   "cell_type": "code",
   "execution_count": 34,
   "metadata": {
    "colab": {
     "base_uri": "https://localhost:8080/"
    },
    "id": "ZFQbpiwM6ZZR",
    "outputId": "13bbab4a-ff12-4eca-8bc7-2b678abf507d"
   },
   "outputs": [
    {
     "data": {
      "text/plain": [
       "{'spiketimes': [0, 20, 34, 56], 'name': 'Einstein', 'lab': 'Churchland'}"
      ]
     },
     "execution_count": 34,
     "metadata": {},
     "output_type": "execute_result"
    }
   ],
   "source": [
    "monkey_A"
   ]
  },
  {
   "cell_type": "code",
   "execution_count": 35,
   "metadata": {
    "colab": {
     "base_uri": "https://localhost:8080/"
    },
    "id": "fk2Bi9oG6uu2",
    "outputId": "f9b4a9a7-6671-4556-de02-e8418d8d7fba"
   },
   "outputs": [
    {
     "data": {
      "text/plain": [
       "True"
      ]
     },
     "execution_count": 35,
     "metadata": {},
     "output_type": "execute_result"
    }
   ],
   "source": [
    "'lab' in monkey_A # test if a key is in a dictionary\n",
    "# this also work with strings (e.g. 'hi' in 'abhi' will be True)"
   ]
  },
  {
   "cell_type": "code",
   "execution_count": 36,
   "metadata": {
    "colab": {
     "base_uri": "https://localhost:8080/"
    },
    "id": "a1Puo1UO6xlt",
    "outputId": "f4c6160f-93dd-48db-cb66-0cc573b75e31"
   },
   "outputs": [
    {
     "data": {
      "text/plain": [
       "False"
      ]
     },
     "execution_count": 36,
     "metadata": {},
     "output_type": "execute_result"
    }
   ],
   "source": [
    "del monkey_A['lab'] # delete a key value pair\n",
    "'lab' in monkey_A"
   ]
  },
  {
   "cell_type": "code",
   "execution_count": 37,
   "metadata": {
    "colab": {
     "base_uri": "https://localhost:8080/"
    },
    "id": "G6Jk5PrS60Mt",
    "outputId": "4befd54f-1d78-47f8-f59a-fde4a1bef046"
   },
   "outputs": [
    {
     "data": {
      "text/plain": [
       "{'spiketimes': [0, 20, 34, 56], 'name': 'Einstein'}"
      ]
     },
     "execution_count": 37,
     "metadata": {},
     "output_type": "execute_result"
    }
   ],
   "source": [
    "monkey_A"
   ]
  },
  {
   "cell_type": "markdown",
   "metadata": {
    "id": "CAP4VDqm64N7"
   },
   "source": [
    "You can create dictionaries from lists and by setting keys equal to values using the `dict` constructor."
   ]
  },
  {
   "cell_type": "code",
   "execution_count": 39,
   "metadata": {
    "colab": {
     "base_uri": "https://localhost:8080/"
    },
    "id": "Tei-aZ1O63KP",
    "outputId": "a6b10864-6073-42c0-f9e9-4453acba1b60"
   },
   "outputs": [
    {
     "name": "stdout",
     "output_type": "stream",
     "text": [
      "[(1, 'Cornelia'), (2, 'Mobi'), (3, 'Banana'), (4, 'Cat'), (5, 'Dog')]\n"
     ]
    },
    {
     "data": {
      "text/plain": [
       "{1: 'Cornelia', 2: 'Mobi', 3: 'Banana', 4: 'Cat', 5: 'Dog'}"
      ]
     },
     "execution_count": 39,
     "metadata": {},
     "output_type": "execute_result"
    }
   ],
   "source": [
    "my_list = [(1,'Cornelia'), (2, 'Mobi'), (3, 'Banana'), (4, 'Cat'), (5,'Dog')]\n",
    "print(my_list)\n",
    "dict(my_list)"
   ]
  },
  {
   "cell_type": "code",
   "execution_count": 54,
   "metadata": {
    "colab": {
     "base_uri": "https://localhost:8080/"
    },
    "id": "UhjpVQ0H6_cc",
    "outputId": "ff79dbe9-f919-467e-e8eb-a74d21874c71"
   },
   "outputs": [
    {
     "data": {
      "text/plain": [
       "{'instructor_1': 'Sam', 'instructor_2': 'Sharon', 'instructor_3': 'Abhi'}"
      ]
     },
     "execution_count": 54,
     "metadata": {},
     "output_type": "execute_result"
    }
   ],
   "source": [
    "dict(instructor_1 = 'Sam', instructor_2 = 'Sharon', instructor_3 = 'Abhi')"
   ]
  },
  {
   "cell_type": "markdown",
   "metadata": {
    "id": "lh2e3hHS7ESp"
   },
   "source": [
    "Note that dictionary keys need to be unique, so, for example:"
   ]
  },
  {
   "cell_type": "code",
   "execution_count": 55,
   "metadata": {
    "colab": {
     "base_uri": "https://localhost:8080/"
    },
    "id": "U-M_V_I_7Cj7",
    "outputId": "4811c664-46d3-457c-d5d8-058336b7c499"
   },
   "outputs": [
    {
     "data": {
      "text/plain": [
       "{1: 'Abhi'}"
      ]
     },
     "execution_count": 55,
     "metadata": {},
     "output_type": "execute_result"
    }
   ],
   "source": [
    "my_list = [(1,'Sam'), (1, 'Abhi')]\n",
    "dict(my_list)"
   ]
  },
  {
   "cell_type": "markdown",
   "metadata": {
    "id": "St1Sfayf7LCc"
   },
   "source": [
    "Will not give what we expect, but values do not need to be unique, which is why the below works."
   ]
  },
  {
   "cell_type": "code",
   "execution_count": 56,
   "metadata": {
    "colab": {
     "base_uri": "https://localhost:8080/"
    },
    "id": "ixoazRKT7Iu_",
    "outputId": "65993b8a-1a1f-43db-d737-dc7a5b024a80"
   },
   "outputs": [
    {
     "data": {
      "text/plain": [
       "{1: 'Sam', 2: 'Sam'}"
      ]
     },
     "execution_count": 56,
     "metadata": {},
     "output_type": "execute_result"
    }
   ],
   "source": [
    "my_list = [(1,'Sam'), (2, 'Sam')]\n",
    "dict(my_list)"
   ]
  },
  {
   "cell_type": "markdown",
   "metadata": {
    "id": "AZDvqAFm7P69"
   },
   "source": [
    "## Exercise\n",
    "\n",
    "1. Create a dictionary (using any of the above methods) of what you would order for lunch if you could. Have the keys be the menu items, and the values be their prices. Store the dictionary in a variable called `lunch_menu`\n",
    "2. Print out the keys of the dictionary.\n",
    "3. Get the price for a specific menu item out of the dictionary.\n",
    "4. Check if a certain menu item is in the dictionary.\n",
    "5. Delete that menu item from the dictionary.\n",
    "6. Check again if that menu item is in the dictionary."
   ]
  },
  {
   "cell_type": "code",
   "execution_count": 64,
   "metadata": {
    "id": "RG-ywLE17O-5"
   },
   "outputs": [],
   "source": [
    "#1\n",
    "\n",
    "lunch_menu = dict(sandwich = 5, soup = 2, chips = 2)"
   ]
  },
  {
   "cell_type": "code",
   "execution_count": 58,
   "metadata": {
    "id": "ijt_IY4i7Woy"
   },
   "outputs": [
    {
     "name": "stdout",
     "output_type": "stream",
     "text": [
      "dict_keys(['sandwich', 'soup', 'chips'])\n"
     ]
    }
   ],
   "source": [
    "#2\n",
    "\n",
    "print(lunch_menu.keys())"
   ]
  },
  {
   "cell_type": "code",
   "execution_count": 45,
   "metadata": {
    "id": "8vhcSZRR7Zgx"
   },
   "outputs": [
    {
     "data": {
      "text/plain": [
       "5"
      ]
     },
     "execution_count": 60,
     "metadata": {},
     "output_type": "execute_result"
    }
   ],
   "source": [
    "#3\n",
    "lunch_menu['sandwich']"
   ]
  },
  {
   "cell_type": "code",
   "execution_count": 65,
   "metadata": {
    "id": "ynQXcN4u7dCv"
   },
   "outputs": [
    {
     "data": {
      "text/plain": [
       "True"
      ]
     },
     "execution_count": 65,
     "metadata": {},
     "output_type": "execute_result"
    }
   ],
   "source": [
    "#4\n",
    "'chips' in lunch_menu"
   ]
  },
  {
   "cell_type": "code",
   "execution_count": 66,
   "metadata": {
    "id": "7G17uYNm7hEM"
   },
   "outputs": [],
   "source": [
    "#5\n",
    "del lunch_menu['chips']"
   ]
  },
  {
   "cell_type": "code",
   "execution_count": 67,
   "metadata": {
    "id": "CB64Sanz7k0Y"
   },
   "outputs": [
    {
     "data": {
      "text/plain": [
       "False"
      ]
     },
     "execution_count": 67,
     "metadata": {},
     "output_type": "execute_result"
    }
   ],
   "source": [
    "#6\n",
    "'chips' in lunch_menu"
   ]
  },
  {
   "cell_type": "markdown",
   "metadata": {
    "id": "OrO5W_l97o-Z"
   },
   "source": [
    "# Tuples\n",
    "Tuples are static, or immutable. Like strings, you cannot modify them once you have created them. Slicing works with tuples like it works with lists. Tuples are useful when you want to make sure something cannot accidentally get modified, and we will use them when we learn about functions next class."
   ]
  },
  {
   "cell_type": "code",
   "execution_count": 83,
   "metadata": {
    "id": "LCH0EYzW7n5A"
   },
   "outputs": [],
   "source": [
    "my_tup = 'test',0,1"
   ]
  },
  {
   "cell_type": "code",
   "execution_count": 84,
   "metadata": {
    "colab": {
     "base_uri": "https://localhost:8080/"
    },
    "id": "eX8vcDx_7wIg",
    "outputId": "83eac91a-a5fd-40b2-9a6e-8b73854f3cbd"
   },
   "outputs": [
    {
     "data": {
      "text/plain": [
       "('test', 0, 1)"
      ]
     },
     "execution_count": 84,
     "metadata": {},
     "output_type": "execute_result"
    }
   ],
   "source": [
    "my_tup"
   ]
  },
  {
   "cell_type": "code",
   "execution_count": 85,
   "metadata": {
    "colab": {
     "base_uri": "https://localhost:8080/",
     "height": 35
    },
    "id": "9uk73e9I70D8",
    "outputId": "81baa487-0f11-431a-9469-dbe542d716c9"
   },
   "outputs": [
    {
     "data": {
      "text/plain": [
       "'test'"
      ]
     },
     "execution_count": 85,
     "metadata": {},
     "output_type": "execute_result"
    }
   ],
   "source": [
    "my_tup[0]"
   ]
  },
  {
   "cell_type": "markdown",
   "metadata": {
    "id": "N2KTRB9B76TC"
   },
   "source": [
    "What will `my_tup[1]` output? Guess before typing and checking below."
   ]
  },
  {
   "cell_type": "code",
   "execution_count": 87,
   "metadata": {
    "id": "mQdHV_vd72r2"
   },
   "outputs": [
    {
     "data": {
      "text/plain": [
       "0"
      ]
     },
     "execution_count": 87,
     "metadata": {},
     "output_type": "execute_result"
    }
   ],
   "source": [
    "my_tup[1]"
   ]
  },
  {
   "cell_type": "code",
   "execution_count": 86,
   "metadata": {
    "colab": {
     "base_uri": "https://localhost:8080/",
     "height": 174
    },
    "id": "qdDAWcjq8MMO",
    "outputId": "c85984fb-901b-4e44-83af-3c4d74b1b801"
   },
   "outputs": [
    {
     "ename": "TypeError",
     "evalue": "'tuple' object does not support item assignment",
     "output_type": "error",
     "traceback": [
      "\u001b[1;31m---------------------------------------------------------------------------\u001b[0m",
      "\u001b[1;31mTypeError\u001b[0m                                 Traceback (most recent call last)",
      "Cell \u001b[1;32mIn[86], line 1\u001b[0m\n\u001b[1;32m----> 1\u001b[0m my_tup[\u001b[38;5;241m0\u001b[39m] \u001b[38;5;241m=\u001b[39m \u001b[38;5;124m'\u001b[39m\u001b[38;5;124mit worked\u001b[39m\u001b[38;5;124m'\u001b[39m\n",
      "\u001b[1;31mTypeError\u001b[0m: 'tuple' object does not support item assignment"
     ]
    }
   ],
   "source": [
    "my_tup[0] = 'it worked' # will this line work? Guess before trying."
   ]
  },
  {
   "cell_type": "code",
   "execution_count": 88,
   "metadata": {
    "colab": {
     "base_uri": "https://localhost:8080/",
     "height": 174
    },
    "id": "9VEIwXRm8PIU",
    "outputId": "78ab98ec-258e-4f17-8286-48bc827ce732"
   },
   "outputs": [
    {
     "ename": "TypeError",
     "evalue": "can only concatenate tuple (not \"int\") to tuple",
     "output_type": "error",
     "traceback": [
      "\u001b[1;31m---------------------------------------------------------------------------\u001b[0m",
      "\u001b[1;31mTypeError\u001b[0m                                 Traceback (most recent call last)",
      "Cell \u001b[1;32mIn[88], line 1\u001b[0m\n\u001b[1;32m----> 1\u001b[0m my_tup \u001b[38;5;241m+\u001b[39m \u001b[38;5;241m0\u001b[39m\n",
      "\u001b[1;31mTypeError\u001b[0m: can only concatenate tuple (not \"int\") to tuple"
     ]
    }
   ],
   "source": [
    "my_tup + 0 # what about this?"
   ]
  },
  {
   "cell_type": "code",
   "execution_count": 89,
   "metadata": {
    "colab": {
     "base_uri": "https://localhost:8080/"
    },
    "id": "s-IFJO8H8RqG",
    "outputId": "ec754ddf-f62d-4fb5-d46e-c1d903feabd1"
   },
   "outputs": [
    {
     "data": {
      "text/plain": [
       "('test', 0, 1, 0)"
      ]
     },
     "execution_count": 89,
     "metadata": {},
     "output_type": "execute_result"
    }
   ],
   "source": [
    "my_tup + (0,) # creates a new tuple, but my_tup is unchanged."
   ]
  },
  {
   "cell_type": "code",
   "execution_count": 90,
   "metadata": {
    "colab": {
     "base_uri": "https://localhost:8080/"
    },
    "id": "23IEMNmQ8VSd",
    "outputId": "a8711dad-e2d3-408c-8c37-f94ee6b7bfec"
   },
   "outputs": [
    {
     "data": {
      "text/plain": [
       "('test', 0, 1)"
      ]
     },
     "execution_count": 90,
     "metadata": {},
     "output_type": "execute_result"
    }
   ],
   "source": [
    "my_tup"
   ]
  },
  {
   "cell_type": "code",
   "execution_count": null,
   "metadata": {
    "id": "JB9MqQw78Xgb"
   },
   "outputs": [],
   "source": [
    "new_tup = my_tup + (0,)"
   ]
  },
  {
   "cell_type": "code",
   "execution_count": null,
   "metadata": {
    "colab": {
     "base_uri": "https://localhost:8080/"
    },
    "id": "9NAHRm6O8aL5",
    "outputId": "13c3a032-20a2-48b6-8056-992422ac25c9"
   },
   "outputs": [],
   "source": [
    "new_tup # what will new_tup be?"
   ]
  },
  {
   "cell_type": "code",
   "execution_count": null,
   "metadata": {
    "colab": {
     "base_uri": "https://localhost:8080/",
     "height": 174
    },
    "id": "D0rcwaaP8dg9",
    "outputId": "48d3565b-868e-42bf-c292-8926046251a0"
   },
   "outputs": [],
   "source": [
    "del my_tup[0]"
   ]
  },
  {
   "cell_type": "markdown",
   "metadata": {
    "id": "kSXXDx8C8je1"
   },
   "source": [
    "## Tuple Unpacking and Packing\n",
    "\n",
    "Tuple packing and unpacking refers to separating a tuple into variables or joining variables into a tuple. When unpacking `_` is used as a placeholder for a tuple value you do not care about using in further code."
   ]
  },
  {
   "cell_type": "code",
   "execution_count": null,
   "metadata": {
    "colab": {
     "base_uri": "https://localhost:8080/",
     "height": 174
    },
    "id": "hvE1KgET8nil",
    "outputId": "a30a93f2-f5bf-40ae-8162-20d4fe97b5f3"
   },
   "outputs": [],
   "source": [
    "a,b = my_tup # fails because only have two values to unpack into but tuple has 3"
   ]
  },
  {
   "cell_type": "code",
   "execution_count": null,
   "metadata": {
    "id": "g9qgU4ER9cXx"
   },
   "outputs": [],
   "source": [
    "a,b,_ = my_tup # tuple unpacking"
   ]
  },
  {
   "cell_type": "code",
   "execution_count": null,
   "metadata": {
    "colab": {
     "base_uri": "https://localhost:8080/"
    },
    "id": "Lt_xECEZ9fgb",
    "outputId": "512e78dd-ec04-4939-eec4-b252de393899"
   },
   "outputs": [],
   "source": [
    "print(a,b)"
   ]
  },
  {
   "cell_type": "code",
   "execution_count": null,
   "metadata": {
    "id": "CIA3qcTY9hVn"
   },
   "outputs": [],
   "source": [
    "new_tup = 1,2,3 # tuple packing"
   ]
  },
  {
   "cell_type": "code",
   "execution_count": null,
   "metadata": {
    "colab": {
     "base_uri": "https://localhost:8080/"
    },
    "id": "2J2dufoI9jd2",
    "outputId": "9975d676-ec93-4560-fbd3-a195a2c01cd7"
   },
   "outputs": [],
   "source": [
    "new_tup"
   ]
  },
  {
   "cell_type": "code",
   "execution_count": null,
   "metadata": {
    "colab": {
     "base_uri": "https://localhost:8080/"
    },
    "id": "a_Omb6Cn9l7O",
    "outputId": "f3b58dbb-acdb-4f11-8887-adbb6caf8927"
   },
   "outputs": [],
   "source": [
    "hierarchical_tup = (1,2),3\n",
    "print(hierarchical_tup)"
   ]
  },
  {
   "cell_type": "code",
   "execution_count": null,
   "metadata": {
    "colab": {
     "base_uri": "https://localhost:8080/",
     "height": 208
    },
    "id": "_I-NBkgX9y9i",
    "outputId": "6e4d26af-44ce-43ff-ec7a-23acd8584490"
   },
   "outputs": [],
   "source": [
    "# Let's say we want a b and c to represent the three elements in our hierarchical tuple\n",
    "a,b,c = hierarchical_tup\n",
    "# Why does this fail?"
   ]
  },
  {
   "cell_type": "code",
   "execution_count": null,
   "metadata": {
    "id": "7pS0xMC591LV"
   },
   "outputs": [],
   "source": [
    "# How can we unpack this?\n",
    "\n",
    "# Unpack multiple tuples\n",
    "\n",
    "x, c = hierarchical_tup\n",
    "a,b = x\n",
    "\n",
    "# Hierarchical Tuple Unpacking\n",
    "\n",
    "(a,b),c = hierarchical_tup"
   ]
  },
  {
   "cell_type": "markdown",
   "metadata": {
    "id": "dMxxn1kt98AL"
   },
   "source": [
    "## Exercise:\n",
    "\n",
    "1. Are tuples mutable or immutable?\n",
    "2. Create a tuple of your and your coding partner's names, called `our_names`.\n",
    "3. Change your name to the name of one of the other people at your table (Can you?)\n",
    "4. Create a new tuple of `whole_table_names` with `our_names` and your other tablemate's names.\n",
    "5. Unpack the `whole_table_names`, using a placeholder (a placeholder in this context is ``` _```) for your own name \n",
    "6. Print everyone else's names using the unpacked values."
   ]
  },
  {
   "cell_type": "code",
   "execution_count": null,
   "metadata": {
    "id": "DkHX-0Lu93mu"
   },
   "outputs": [],
   "source": [
    "#1.\n",
    "#2.\n",
    "#3.\n",
    "#4.\n",
    "#5.\n",
    "#6."
   ]
  },
  {
   "cell_type": "markdown",
   "metadata": {
    "id": "ho7JVRuu-N5k"
   },
   "source": [
    "# For loops\n",
    "\n",
    "For loops let us repeat code, for example when iterating through a dictionary, list, or a tuple. We can also use for loops when we want to repeat code a certain number of times."
   ]
  },
  {
   "cell_type": "markdown",
   "metadata": {
    "id": "6IvJjQWk-QvR"
   },
   "source": [
    "### Directly iterate through a list"
   ]
  },
  {
   "cell_type": "code",
   "execution_count": null,
   "metadata": {
    "colab": {
     "base_uri": "https://localhost:8080/"
    },
    "id": "Gizt8mDl-EFT",
    "outputId": "52a95ea7-d049-45c2-82dc-0ad44263d17a"
   },
   "outputs": [],
   "source": [
    "teachers = ['Abhi', 'Sharon', 'Sam']\n",
    "for val in teachers: # directly iterate through the items in a list.\n",
    "    print(val)"
   ]
  },
  {
   "cell_type": "markdown",
   "metadata": {
    "id": "18q94IWi-ZPD"
   },
   "source": [
    "### Directly iterate through a tuple\n",
    "\n",
    "This works in the same way as for a list. Can you write something like above using new_tup instead of teachers? Try it below."
   ]
  },
  {
   "cell_type": "code",
   "execution_count": null,
   "metadata": {
    "colab": {
     "base_uri": "https://localhost:8080/"
    },
    "id": "VxYXVZYC-Vu_",
    "outputId": "14e4255e-8483-40f2-df92-87253904e0e3"
   },
   "outputs": [],
   "source": [
    "for val in new_tup:\n",
    "    print(val)"
   ]
  },
  {
   "cell_type": "markdown",
   "metadata": {
    "id": "uEf7-rAd-eqM"
   },
   "source": [
    "### Directly Iterate through a Dict"
   ]
  },
  {
   "cell_type": "code",
   "execution_count": null,
   "metadata": {
    "colab": {
     "base_uri": "https://localhost:8080/"
    },
    "id": "-4TXFEZZ-cTJ",
    "outputId": "3af27a3b-c929-4860-b926-0afce8a53cc2"
   },
   "outputs": [],
   "source": [
    "print(monkey_A.keys())\n",
    "for k in monkey_A.keys():\n",
    "    print(k,monkey_A[k])"
   ]
  },
  {
   "cell_type": "code",
   "execution_count": null,
   "metadata": {
    "colab": {
     "base_uri": "https://localhost:8080/"
    },
    "id": "boukKNfo-p43",
    "outputId": "ec0c4829-a9d6-44a5-9cb1-ee0f74daeb08"
   },
   "outputs": [],
   "source": [
    "print(monkey_A.items())# list of items\n",
    "\n",
    "for key, value in monkey_A.items(): # combines tuple unpacking with items\n",
    "    print(key, value)\n",
    "\n",
    "# the above is equivalent to:\n",
    "for item in monkey_A.items():\n",
    "    key, value = item\n",
    "    print(key, value)"
   ]
  },
  {
   "cell_type": "markdown",
   "metadata": {
    "id": "2MatuNcP-vgl"
   },
   "source": [
    "### Range"
   ]
  },
  {
   "cell_type": "code",
   "execution_count": null,
   "metadata": {
    "colab": {
     "base_uri": "https://localhost:8080/"
    },
    "id": "rZElA0qX-tai",
    "outputId": "44b4a803-7980-4a1e-e4d7-a792f5faed66"
   },
   "outputs": [],
   "source": [
    "for i in range(6):\n",
    "    print(i)"
   ]
  },
  {
   "cell_type": "markdown",
   "metadata": {
    "id": "WdBV4AHo-0Kd"
   },
   "source": [
    "Can you create for loop through a range like above that starts at 1 and stops at 7 (inclusive)?\n",
    "\n",
    "Try below."
   ]
  },
  {
   "cell_type": "code",
   "execution_count": null,
   "metadata": {
    "colab": {
     "base_uri": "https://localhost:8080/"
    },
    "id": "tjezUjBA-x16",
    "outputId": "6b01fe27-b512-49d5-b2e8-93deab89a0cb"
   },
   "outputs": [],
   "source": [
    "for i in range(1,8):\n",
    "    print(i)"
   ]
  },
  {
   "cell_type": "markdown",
   "metadata": {
    "id": "mfK4DupC-5RK"
   },
   "source": [
    "What about one that starts at 0 and ends at 6 (inclusive) where only every other number is iterated through? (Hint: use the step argument to range)"
   ]
  },
  {
   "cell_type": "code",
   "execution_count": null,
   "metadata": {
    "colab": {
     "base_uri": "https://localhost:8080/"
    },
    "id": "yWbVv_7U-2yJ",
    "outputId": "7d162831-10dd-4183-bdf3-c51faee539d6"
   },
   "outputs": [],
   "source": [
    "for i in range(0,7,2):\n",
    "    print(i)"
   ]
  },
  {
   "cell_type": "markdown",
   "metadata": {
    "id": "3hWfh1TY--e6"
   },
   "source": [
    "How can we use range with a for loop to print both the index and the value for each element of a list?\n",
    "\n",
    "When you want to modify entries in a list, it is helpful to have the index for the entries."
   ]
  },
  {
   "cell_type": "code",
   "execution_count": null,
   "metadata": {
    "colab": {
     "base_uri": "https://localhost:8080/"
    },
    "id": "MZTAEQE7-8DJ",
    "outputId": "ce43cf66-6e5a-464d-c901-786302811477"
   },
   "outputs": [],
   "source": [
    "print(teachers)\n",
    "for i in range(len(teachers)):\n",
    "  print(i, teachers[i])\n",
    "  teachers[i] += 's'"
   ]
  },
  {
   "cell_type": "code",
   "execution_count": null,
   "metadata": {
    "colab": {
     "base_uri": "https://localhost:8080/"
    },
    "id": "mj3pWGB6_BKW",
    "outputId": "d759e908-1e67-4016-fb40-624171d3bff1"
   },
   "outputs": [],
   "source": [
    "teachers # what do you expect this to output?"
   ]
  },
  {
   "cell_type": "markdown",
   "metadata": {
    "id": "TPMH9D3U_Fag"
   },
   "source": [
    "### List Comprehension\n",
    "With something called **list comprehension**, you can use a for loop in line to create dictionaries and lists like this:"
   ]
  },
  {
   "cell_type": "code",
   "execution_count": null,
   "metadata": {},
   "outputs": [],
   "source": [
    "my_list = [x**2 for x in range(6)]\n",
    "print(my_list)\n",
    "\n",
    "# The above code is equivalent to:\n",
    "my_list = []\n",
    "for x in range(6):\n",
    "  my_list.append(x**2)\n",
    "\n",
    "print(my_list)"
   ]
  },
  {
   "cell_type": "code",
   "execution_count": null,
   "metadata": {
    "colab": {
     "base_uri": "https://localhost:8080/"
    },
    "id": "3nw_v41w_DQn",
    "outputId": "74bb8e68-17cd-4664-9866-01e686f2eff9"
   },
   "outputs": [],
   "source": [
    "##### take the if statement out there and put it in the next on####\n",
    "\n",
    "my_dict = {x:x**2  for x in range(6) if x%2==0} # only uses x's where the condition is true\n",
    "print(my_dict)\n",
    "\n",
    "# The above code is equivalent to:\n",
    "mydict = {}\n",
    "for x in range(6):\n",
    "  if x%2 == 0:\n",
    "    my_dict[x] = x**2\n",
    "\n",
    "print(my_dict)"
   ]
  },
  {
   "cell_type": "markdown",
   "metadata": {
    "id": "-tvrNDm1_NZr"
   },
   "source": [
    "### Exercise:\n",
    "1. Create a list using list comprehension where any values between 2 and 10 inclusive that are divisible by 3 are added to the list. Assign the list to a variable called `divisible_3s`.\n",
    "2. Using a for loop, print the index and the value at that index for every element in `divisible_3s`.\n",
    "3. Create a dictionary using list comprehension where the key is $x^3$ and the value is $x^2$ for x's between 1 and 4 inclusive. Assign the dictionary to variable `cube_square`.\n",
    "4. Print the key and value for every key, value pair in `cube_square`"
   ]
  },
  {
   "cell_type": "code",
   "execution_count": null,
   "metadata": {
    "id": "X8MEMj0WlkKi"
   },
   "outputs": [],
   "source": [
    "#1 \n",
    "#Hint 1: remember that you can set the upper and lower bounds of as range(lower,upper).\n",
    "#Hint 2: look at the first line in the cell before this\n",
    "\n"
   ]
  },
  {
   "cell_type": "code",
   "execution_count": null,
   "metadata": {
    "id": "kXHiLmr1kst8"
   },
   "outputs": [],
   "source": [
    "#2"
   ]
  },
  {
   "cell_type": "code",
   "execution_count": null,
   "metadata": {
    "id": "EVJBdJ1Clkmq"
   },
   "outputs": [],
   "source": [
    "#3"
   ]
  },
  {
   "cell_type": "code",
   "execution_count": null,
   "metadata": {
    "id": "aaYGz62f_KNl"
   },
   "outputs": [],
   "source": [
    "#4"
   ]
  },
  {
   "cell_type": "markdown",
   "metadata": {
    "id": "CnlV8PVo_S0P"
   },
   "source": [
    "## Enumerate\n",
    "\n",
    "Enumerate lets you access both the index and the item itself for an item in a list -- this is useful when you want access to both the item and the index of that item in the body of the loop. You can always access the item by using `item = list[index]` but enumerate lets you shorten this."
   ]
  },
  {
   "cell_type": "code",
   "execution_count": null,
   "metadata": {
    "id": "mj8rJu7c_Quv"
   },
   "outputs": [],
   "source": [
    "# define a dictionary\n",
    "expat = {\n",
    "    \"appetizer\": ['cauliflower wings', 'tater tots'],\n",
    "    \"main\": ['curry', 'burger'],\n",
    "    \"dessert\": ['ice cream', 'pastry']\n",
    "}"
   ]
  },
  {
   "cell_type": "code",
   "execution_count": null,
   "metadata": {
    "colab": {
     "base_uri": "https://localhost:8080/"
    },
    "id": "hmISpZPI_VTP",
    "outputId": "11e626ff-82fd-4a7e-ab35-cd2acc3c1369"
   },
   "outputs": [],
   "source": [
    "# What if we want both the index and the value at that index for a list?\n",
    "for i in range(len(expat[\"appetizer\"])):\n",
    "  print(i, expat[\"appetizer\"][i])"
   ]
  },
  {
   "cell_type": "code",
   "execution_count": null,
   "metadata": {
    "colab": {
     "base_uri": "https://localhost:8080/"
    },
    "id": "9tR3EdVB_W-v",
    "outputId": "262a47ba-2a78-415a-ae5d-4778119318cb"
   },
   "outputs": [],
   "source": [
    "for item in expat[\"appetizer\"]:\n",
    "  print(item)"
   ]
  },
  {
   "cell_type": "code",
   "execution_count": null,
   "metadata": {
    "colab": {
     "base_uri": "https://localhost:8080/"
    },
    "id": "PKbsVzlR_Yyd",
    "outputId": "ceec7613-43f0-47f8-e2f7-3d2be172a454"
   },
   "outputs": [],
   "source": [
    "# Enumerate lets us get both at the same time elegantly!\n",
    "for i, item in enumerate(expat[\"appetizer\"]):\n",
    "  print(i, item)"
   ]
  },
  {
   "cell_type": "code",
   "execution_count": null,
   "metadata": {
    "colab": {
     "base_uri": "https://localhost:8080/"
    },
    "id": "KiVTPBit_agf",
    "outputId": "175706fb-24f8-4acc-8cec-136a2345b8be"
   },
   "outputs": [],
   "source": [
    "# We can also use enumerate with the dictionary to number (key, value) pairs.\n",
    "for i, (key, value) in enumerate(expat.items()):\n",
    "  print(i, key, value)"
   ]
  },
  {
   "cell_type": "markdown",
   "metadata": {
    "id": "yyxCguLM_gae"
   },
   "source": [
    "### Exercise:\n",
    "\n",
    "Can you use a for loop with enumerate to remove all odd numbers from `evens`, so that `evens` contains all the even digits? Use `pop` or `del`, don't use `remove` for this."
   ]
  },
  {
   "cell_type": "code",
   "execution_count": null,
   "metadata": {
    "id": "xplpgybC_c6m"
   },
   "outputs": [],
   "source": [
    "# your code"
   ]
  },
  {
   "cell_type": "markdown",
   "metadata": {},
   "source": [
    "# Challenge question\n",
    "\n",
    "You are looking at three different restaurants to eat at with 3 of your very difficult friends friends, who have certain dietary restrictions/are picky eaters. Elliot is pescetarian for ethical reasons, so he does not eat chicken, pork, or beef. Sean is avoiding anything with bread. Eric will not eat things that have any ingredients that have the word 'green' in there, but is the only one willing to ask the waiter to omit it.\n",
    "\n",
    "Write code to sort through a set of restuarant menus (provided below), and print the set of restaurants where every person has at least one option to choose from. Additionally, print what each person can order from that restaurant. If Eric needs to omit something, print what he needs to omit."
   ]
  },
  {
   "cell_type": "code",
   "execution_count": 75,
   "metadata": {},
   "outputs": [],
   "source": [
    "charm_thai = {\n",
    "    'red curry' : ['green beans', 'chicken','red bell peppers','coconut milk'],\n",
    "    'pad thai' : ['noodles','tofu','egg','tamarind sauce', 'bamboo shoots'],\n",
    "    'pad see ew' : ['green beans', 'chicken', 'red bell peppers','black bean paste'],\n",
    "    'green curry' : ['green curry paste', 'chicken','coconut milk', 'red bell peppers', 'bamboo shoots'],\n",
    "    }\n",
    "bus_stop_diner = {\n",
    "    'breakfast combo' : ['pancakes', 'ham', 'eggs', 'bacon', 'syrup'],\n",
    "    'french toast' : ['bread', 'syrup','eggs','milk'],\n",
    "    'BLT sandwich' : ['bacon', 'bread', 'lettuce', 'tomato'],\n",
    "    'fried chicken' : ['chicken']\n",
    "}\n",
    "jin_ramen = {\n",
    "    'tonkotsu ramen' : ['pork','noodles','soup','bamboo shoots','green onion'],\n",
    "    'agedashi tofu' : ['tofu', 'soy sauce'],\n",
    "    'veggie ramen' : ['green vegetables','noodles','tofu','soup', 'bell pepper','corn']\n",
    "}\n",
    "restaurant_list = [charm_thai, bus_stop_diner, jin_ramen]"
   ]
  },
  {
   "cell_type": "code",
   "execution_count": 78,
   "metadata": {},
   "outputs": [
    {
     "ename": "ValueError",
     "evalue": "dictionary update sequence element #0 has length 4; 2 is required",
     "output_type": "error",
     "traceback": [
      "\u001b[1;31m---------------------------------------------------------------------------\u001b[0m",
      "\u001b[1;31mValueError\u001b[0m                                Traceback (most recent call last)",
      "Cell \u001b[1;32mIn[78], line 1\u001b[0m\n\u001b[1;32m----> 1\u001b[0m \u001b[38;5;28mdict\u001b[39m(restaurant_list)\n\u001b[0;32m      3\u001b[0m Elliot_restrict \u001b[38;5;241m=\u001b[39m [\u001b[38;5;124m'\u001b[39m\u001b[38;5;124mchicken\u001b[39m\u001b[38;5;124m'\u001b[39m, \u001b[38;5;124m'\u001b[39m\u001b[38;5;124mpork\u001b[39m\u001b[38;5;124m'\u001b[39m, \u001b[38;5;124m'\u001b[39m\u001b[38;5;124mbeef\u001b[39m\u001b[38;5;124m'\u001b[39m]\n\u001b[0;32m      4\u001b[0m Elliot_approve \u001b[38;5;241m=\u001b[39m []\n",
      "\u001b[1;31mValueError\u001b[0m: dictionary update sequence element #0 has length 4; 2 is required"
     ]
    }
   ],
   "source": [
    "dict(restaurant_list)\n",
    "\n",
    "Elliot_restrict = ['chicken', 'pork', 'beef']\n",
    "Elliot_approve = []\n",
    "Sean_restrict = ['bread']\n",
    "Sean_approve = []\n",
    "Eric_restrict = ['green']\n",
    "Eric_approve = []\n",
    "\n",
    "for i in len(restaurant_list):\n",
    "    for j in len(restaurant_list[i]):\n",
    "        if Elliot_restrict in j:\n",
    "            pass\n",
    "        else: Elliot_approve += j\n",
    "\n"
   ]
  },
  {
   "cell_type": "code",
   "execution_count": 79,
   "metadata": {},
   "outputs": [
    {
     "data": {
      "text/plain": [
       "[{'red curry': ['green beans', 'chicken', 'red bell peppers', 'coconut milk'],\n",
       "  'pad thai': ['noodles', 'tofu', 'egg', 'tamarind sauce', 'bamboo shoots'],\n",
       "  'pad see ew': ['green beans',\n",
       "   'chicken',\n",
       "   'red bell peppers',\n",
       "   'black bean paste'],\n",
       "  'green curry': ['green curry paste',\n",
       "   'chicken',\n",
       "   'coconut milk',\n",
       "   'red bell peppers',\n",
       "   'bamboo shoots']},\n",
       " {'breakfast combo': ['pancakes', 'ham', 'eggs', 'bacon', 'syrup'],\n",
       "  'french toast': ['bread', 'syrup', 'eggs', 'milk'],\n",
       "  'BLT sandwich': ['bacon', 'bread', 'lettuce', 'tomato'],\n",
       "  'fried chicken': ['chicken']},\n",
       " {'tonkotsu ramen': ['pork',\n",
       "   'noodles',\n",
       "   'soup',\n",
       "   'bamboo shoots',\n",
       "   'green onion'],\n",
       "  'agedashi tofu': ['tofu', 'soy sauce'],\n",
       "  'veggie ramen': ['green vegetables',\n",
       "   'noodles',\n",
       "   'tofu',\n",
       "   'soup',\n",
       "   'bell pepper',\n",
       "   'corn']}]"
      ]
     },
     "execution_count": 79,
     "metadata": {},
     "output_type": "execute_result"
    }
   ],
   "source": [
    "restaurant_list"
   ]
  },
  {
   "cell_type": "code",
   "execution_count": 82,
   "metadata": {},
   "outputs": [
    {
     "data": {
      "text/plain": [
       "{'red curry': ['green beans', 'chicken', 'red bell peppers', 'coconut milk'],\n",
       " 'pad thai': ['noodles', 'tofu', 'egg', 'tamarind sauce', 'bamboo shoots'],\n",
       " 'pad see ew': ['green beans',\n",
       "  'chicken',\n",
       "  'red bell peppers',\n",
       "  'black bean paste'],\n",
       " 'green curry': ['green curry paste',\n",
       "  'chicken',\n",
       "  'coconut milk',\n",
       "  'red bell peppers',\n",
       "  'bamboo shoots']}"
      ]
     },
     "execution_count": 82,
     "metadata": {},
     "output_type": "execute_result"
    }
   ],
   "source": [
    "restaurant_list[0]"
   ]
  },
  {
   "cell_type": "code",
   "execution_count": null,
   "metadata": {},
   "outputs": [],
   "source": []
  }
 ],
 "metadata": {
  "colab": {
   "provenance": []
  },
  "kernelspec": {
   "display_name": "Python 3 (ipykernel)",
   "language": "python",
   "name": "python3"
  },
  "language_info": {
   "codemirror_mode": {
    "name": "ipython",
    "version": 3
   },
   "file_extension": ".py",
   "mimetype": "text/x-python",
   "name": "python",
   "nbconvert_exporter": "python",
   "pygments_lexer": "ipython3",
   "version": "3.12.4"
  }
 },
 "nbformat": 4,
 "nbformat_minor": 1
}
